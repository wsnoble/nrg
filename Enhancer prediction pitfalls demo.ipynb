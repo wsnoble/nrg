{
 "cells": [
  {
   "cell_type": "markdown",
   "metadata": {},
   "source": [
    "# Enhancer Prediction Pitfalls Demo\n",
    "\n",
    "This notebook demonstrates several potential pitfalls of machine learning in genomics, utilizing Python and the scikit-learn machine learning package.  Broad discussion of these pitfalls can be found in our Nature Reviews Genetics paper (link).  Some are well known and not specific to genomics, while others have particular relevance in the field and may be under-appreciated.  The latter are primarily characterized by violations of the Independent and Identically-Distributed (IID) assumption made by most statistical models; see [The Elements of Statistical Learning](https://web.stanford.edu/~hastie/ElemStatLearn/) for a detailed introduction.\n",
    "\n",
    "The task is to build a binary classifier for enhancers in the K562 cell line.  There are many potential sources of enhancer labels and features for such a problem; our formulation is as follows.  Rows of the feature matrix are [FANTOM5 Capped Analysis of Gene Expression (CAGE)](https://fantom.gsc.riken.jp/5/datafiles/reprocessed/hg38_latest/extra/enhancer/) genomic regions.  Columns are binary features encoding if the region overlaps a statistically significant ChIP-seq peak for a histone modification or transcription factor (TF) assayed by ENCODE in K562.  A region is labeled 1 if its CAGE expression was non-zero in K562, and 0 if there was no expression in K562.\n",
    "\n",
    "One could use this classifier to make predictions in a related cell line where CAGE has not been performed, or to examine what features are most predictive of K562 CAGE-defined enhancers.  Using known biology, we would expect activating histone marks and TFs to have large positive coefficients in the model, and repressive histone marks and TFs to have large negative coefficients.\n",
    "\n",
    "The notebook will first load features and labels, define several scikit-learn objects needed to demonstrate various pitfalls, and finally use those objects to fit models and evaluate performance.  Multiple performance metrics will be stored after each evaluation and summarized at the end for simple comparison.\n",
    "\n",
    "#### - Sean Whalen, Gladstone Institutes, Pollard Lab"
   ]
  },
  {
   "cell_type": "code",
   "execution_count": 50,
   "metadata": {},
   "outputs": [],
   "source": [
    "import pandas as pd\n",
    "\n",
    "from sklearn.dummy import *\n",
    "from sklearn.feature_selection import *\n",
    "from sklearn.linear_model import *\n",
    "from sklearn.model_selection import *\n",
    "from sklearn.pipeline import make_pipeline\n",
    "from sklearn.preprocessing import *\n",
    "from statsmodels.stats.proportion import proportions_ztest"
   ]
  },
  {
   "cell_type": "markdown",
   "metadata": {},
   "source": [
    "For simplicity, the feature matrix was pre-generated and is loaded from a Feather file, which is a fast binary format for column-based data.  The hg38 genomic coordinates for each region are stored in a column named `coord`, which is later set as the index of the data frame so that the columns only contain features.\n",
    "\n",
    "To better demonstrate some pitfalls, we filter the data to include regions from chromosomes 1 and 2 only.  Any pair of chromosomes could be used."
   ]
  },
  {
   "cell_type": "code",
   "execution_count": 51,
   "metadata": {},
   "outputs": [
    {
     "name": "stdout",
     "output_type": "stream",
     "text": [
      "<class 'pandas.core.frame.DataFrame'>\n",
      "Index: 10959 entries, chr1:905311-906011 to chr2:242086009-242086316\n",
      "Columns: 435 entries, ChIP-seq, ADNP, K562, ENCFF817ARM (ENCODE) to ChIP-seq, ZZZ3, K562, ENCFF945HJR (ENCODE)\n",
      "dtypes: uint8(435)\n",
      "memory usage: 4.6+ MB\n"
     ]
    }
   ],
   "source": [
    "features = pd.read_feather('cage-k562-features-hg38.feather')\n",
    "features = features[features['coord'].str.contains(r'chr[12]:')]\n",
    "features.set_index('coord', inplace = True)\n",
    "features.info()"
   ]
  },
  {
   "cell_type": "markdown",
   "metadata": {},
   "source": [
    "Let's look at a small subset of rows and columns to get a better picture."
   ]
  },
  {
   "cell_type": "code",
   "execution_count": 52,
   "metadata": {},
   "outputs": [
    {
     "data": {
      "text/html": [
       "<div>\n",
       "<style scoped>\n",
       "    .dataframe tbody tr th:only-of-type {\n",
       "        vertical-align: middle;\n",
       "    }\n",
       "\n",
       "    .dataframe tbody tr th {\n",
       "        vertical-align: top;\n",
       "    }\n",
       "\n",
       "    .dataframe thead th {\n",
       "        text-align: right;\n",
       "    }\n",
       "</style>\n",
       "<table border=\"1\" class=\"dataframe\">\n",
       "  <thead>\n",
       "    <tr style=\"text-align: right;\">\n",
       "      <th></th>\n",
       "      <th>ChIP-seq, ARID1B, K562, ENCFF249TYS (ENCODE)</th>\n",
       "      <th>ChIP-seq, ARID2, K562, ENCFF344MKI (ENCODE)</th>\n",
       "    </tr>\n",
       "    <tr>\n",
       "      <th>coord</th>\n",
       "      <th></th>\n",
       "      <th></th>\n",
       "    </tr>\n",
       "  </thead>\n",
       "  <tbody>\n",
       "    <tr>\n",
       "      <th>chr1:1020838-1021129</th>\n",
       "      <td>1</td>\n",
       "      <td>0</td>\n",
       "    </tr>\n",
       "    <tr>\n",
       "      <th>chr1:1021167-1021519</th>\n",
       "      <td>1</td>\n",
       "      <td>0</td>\n",
       "    </tr>\n",
       "    <tr>\n",
       "      <th>chr1:1031105-1031473</th>\n",
       "      <td>0</td>\n",
       "      <td>0</td>\n",
       "    </tr>\n",
       "    <tr>\n",
       "      <th>chr1:1069912-1070292</th>\n",
       "      <td>0</td>\n",
       "      <td>0</td>\n",
       "    </tr>\n",
       "    <tr>\n",
       "      <th>chr1:1073342-1073506</th>\n",
       "      <td>0</td>\n",
       "      <td>0</td>\n",
       "    </tr>\n",
       "  </tbody>\n",
       "</table>\n",
       "</div>"
      ],
      "text/plain": [
       "                      ChIP-seq, ARID1B, K562, ENCFF249TYS (ENCODE)  \\\n",
       "coord                                                                \n",
       "chr1:1020838-1021129                                             1   \n",
       "chr1:1021167-1021519                                             1   \n",
       "chr1:1031105-1031473                                             0   \n",
       "chr1:1069912-1070292                                             0   \n",
       "chr1:1073342-1073506                                             0   \n",
       "\n",
       "                      ChIP-seq, ARID2, K562, ENCFF344MKI (ENCODE)  \n",
       "coord                                                              \n",
       "chr1:1020838-1021129                                            0  \n",
       "chr1:1021167-1021519                                            0  \n",
       "chr1:1031105-1031473                                            0  \n",
       "chr1:1069912-1070292                                            0  \n",
       "chr1:1073342-1073506                                            0  "
      ]
     },
     "execution_count": 52,
     "metadata": {},
     "output_type": "execute_result"
    }
   ],
   "source": [
    "features.iloc[10:15, 5:7]"
   ]
  },
  {
   "cell_type": "markdown",
   "metadata": {},
   "source": [
    "Labels were also pre-generated by thresholding the K562 column of CAGE expression values, resulting in a relatively small percent of CAGE peaks with non-zero expression.  This will later demonstrate the impact of class imbalance.\n",
    "\n",
    "Labels also use genomic coordinates for their index, and re-indexed so their row order matches that of the features."
   ]
  },
  {
   "cell_type": "code",
   "execution_count": 53,
   "metadata": {},
   "outputs": [],
   "source": [
    "labels = (\n",
    "    pd.read_csv('cage-k562-labels-hg38.csv', index_col = 0, squeeze = True)\n",
    "    .reindex(features.index)\n",
    ")"
   ]
  },
  {
   "cell_type": "code",
   "execution_count": 61,
   "metadata": {},
   "outputs": [
    {
     "data": {
      "text/plain": [
       "coord\n",
       "chr1:242523218-242523397    0\n",
       "chr1:143699615-143699920    1\n",
       "chr1:112358903-112359157    0\n",
       "chr1:29209107-29209221      0\n",
       "chr1:234504245-234504517    0\n",
       "chr2:234795448-234795858    0\n",
       "chr2:171141169-171141440    1\n",
       "chr2:181787807-181788052    0\n",
       "chr1:224736861-224737237    0\n",
       "chr2:37768584-37769049      0\n",
       "Name: k562, dtype: int64"
      ]
     },
     "execution_count": 61,
     "metadata": {},
     "output_type": "execute_result"
    }
   ],
   "source": [
    "labels.sample(10, random_state = 4)"
   ]
  },
  {
   "cell_type": "code",
   "execution_count": 62,
   "metadata": {},
   "outputs": [
    {
     "data": {
      "text/plain": [
       "0    10542\n",
       "1      417\n",
       "Name: k562, dtype: int64"
      ]
     },
     "execution_count": 62,
     "metadata": {},
     "output_type": "execute_result"
    }
   ],
   "source": [
    "labels.value_counts()"
   ]
  },
  {
   "cell_type": "markdown",
   "metadata": {},
   "source": [
    "Next, we extract just the chromosome of each region to later demonstrate the effect of cross-chromosome validation versus k-fold cross-validation with random shuffling.  This uses a regular expression to capture the text before a colon, for example the `chr1` in `chr1:110404708-110405059`."
   ]
  },
  {
   "cell_type": "code",
   "execution_count": 63,
   "metadata": {},
   "outputs": [],
   "source": [
    "chroms = (\n",
    "    features\n",
    "    .index\n",
    "    .to_series()\n",
    "    .str.extract('^([^:]+)')\n",
    ")"
   ]
  },
  {
   "cell_type": "markdown",
   "metadata": {},
   "source": [
    "We will define two types of cross-validation, starting with stratified k-fold.  When later passed to a cross-validation function, regions will be randomly shuffled without respect to the chromosome they are located on, and then split into two training/test splits while attempting to presereve the proportion of classes."
   ]
  },
  {
   "cell_type": "code",
   "execution_count": 64,
   "metadata": {},
   "outputs": [],
   "source": [
    "shuffled_cv = StratifiedKFold(\n",
    "    n_splits = 2,\n",
    "    shuffle = True,\n",
    "    random_state = 0\n",
    ")"
   ]
  },
  {
   "cell_type": "markdown",
   "metadata": {},
   "source": [
    "We next define cross-chromosome validation, which splits the data into two training/test sets where all regions on the same chromosome will be in one set or the other.  This prevents non-independent regions on the same chromosome from inflating performance by being present in both the training and test sets, which violates the Independent and Identically Distributed (IID) assumption of most statistical models."
   ]
  },
  {
   "cell_type": "code",
   "execution_count": 65,
   "metadata": {},
   "outputs": [],
   "source": [
    "cc_cv = GroupKFold(n_splits = 2)"
   ]
  },
  {
   "cell_type": "markdown",
   "metadata": {},
   "source": [
    "We then define multiple performance metrics for later use."
   ]
  },
  {
   "cell_type": "code",
   "execution_count": 66,
   "metadata": {},
   "outputs": [],
   "source": [
    "scorers = ['average_precision', 'roc_auc', 'accuracy']"
   ]
  },
  {
   "cell_type": "markdown",
   "metadata": {},
   "source": [
    "We next create several \"pipelines\" which define a series of steps used to process data and fit a model.  scikit-learn commonly uses `estimator` as the variable name for pipelines, so we follow this convention.\n",
    "\n",
    "`VarianceThreshold` is always our first step and removes zero-variance features that generate warnings or cause problems for some models.\n",
    "\n",
    "Our baseline estimator uses a `DummyClassifier` to always predict the most common class (in our case, 0), and is useful to determine if our statistical model is actually learning anything from the data."
   ]
  },
  {
   "cell_type": "code",
   "execution_count": 67,
   "metadata": {},
   "outputs": [],
   "source": [
    "baseline_estimator = make_pipeline(\n",
    "    VarianceThreshold(),\n",
    "    DummyClassifier(strategy = 'most_frequent')\n",
    ")"
   ]
  },
  {
   "cell_type": "markdown",
   "metadata": {},
   "source": [
    "Our linear model estimator removes zero-variance features, then standardizes each feature by subtracting its mean and dividing by its standard deviation, and finally fits a linear model that uses a L2 (\"ridge\") penalty to shrink coefficients."
   ]
  },
  {
   "cell_type": "code",
   "execution_count": 68,
   "metadata": {},
   "outputs": [],
   "source": [
    "linear_estimator = make_pipeline(\n",
    "    VarianceThreshold(),\n",
    "    StandardScaler(),\n",
    "    RidgeClassifier()\n",
    ")"
   ]
  },
  {
   "cell_type": "markdown",
   "metadata": {},
   "source": [
    "We also create a modified linear estimator that pre-selects a small percentage of features based on their correlation with the labels.  Non-selected features are removed before model fitting.  Selection is performed \"inside\" the cross-validation loop."
   ]
  },
  {
   "cell_type": "code",
   "execution_count": 69,
   "metadata": {},
   "outputs": [],
   "source": [
    "selection_percentile = 5\n",
    "selection_lm_estimator = make_pipeline(\n",
    "    VarianceThreshold(),\n",
    "    SelectPercentile(percentile = selection_percentile),\n",
    "    StandardScaler(),\n",
    "    RidgeClassifier()\n",
    ")"
   ]
  },
  {
   "cell_type": "markdown",
   "metadata": {},
   "source": [
    "Similar to above, but without the model-fitting step.  This will demonstrate a pitfall where features are first selected prior to (or \"outside of\") cross-validation."
   ]
  },
  {
   "cell_type": "code",
   "execution_count": 70,
   "metadata": {},
   "outputs": [],
   "source": [
    "selection_estimator = make_pipeline(\n",
    "    VarianceThreshold(),\n",
    "    SelectPercentile(percentile = selection_percentile)\n",
    ")"
   ]
  },
  {
   "cell_type": "markdown",
   "metadata": {},
   "source": [
    "We'll store each model's performance in a list for comparison at the end."
   ]
  },
  {
   "cell_type": "code",
   "execution_count": 71,
   "metadata": {},
   "outputs": [],
   "source": [
    "all_scores = []"
   ]
  },
  {
   "cell_type": "markdown",
   "metadata": {},
   "source": [
    "Evaluate the baseline model using shuffled K-fold CV."
   ]
  },
  {
   "cell_type": "code",
   "execution_count": 72,
   "metadata": {},
   "outputs": [],
   "source": [
    "scores = cross_validate(\n",
    "    baseline_estimator,\n",
    "    features,\n",
    "    labels,\n",
    "    groups = chroms,\n",
    "    cv = shuffled_cv,\n",
    "    scoring = scorers\n",
    ")\n",
    "\n",
    "all_scores.append([\n",
    "    'none',\n",
    "    'none',\n",
    "    'shuffled',\n",
    "    'baseline',\n",
    "    scores['test_average_precision'].mean(),\n",
    "    scores['test_roc_auc'].mean(),\n",
    "    scores['test_accuracy'].mean()\n",
    "])"
   ]
  },
  {
   "cell_type": "markdown",
   "metadata": {},
   "source": [
    "Evaluate the baseline model using cross-chromosome validation."
   ]
  },
  {
   "cell_type": "code",
   "execution_count": 73,
   "metadata": {},
   "outputs": [],
   "source": [
    "scores = cross_validate(\n",
    "    baseline_estimator,\n",
    "    features,\n",
    "    labels,\n",
    "    groups = chroms,\n",
    "    cv = cc_cv,\n",
    "    scoring = scorers\n",
    ")\n",
    "\n",
    "all_scores.append([\n",
    "    'none',\n",
    "    'none',\n",
    "    'cross-chromosome',\n",
    "    'baseline',\n",
    "    scores['test_average_precision'].mean(),\n",
    "    scores['test_roc_auc'].mean(),\n",
    "    scores['test_accuracy'].mean()\n",
    "])"
   ]
  },
  {
   "cell_type": "markdown",
   "metadata": {},
   "source": [
    "Evaluate the linear model using shuffled K-fold CV."
   ]
  },
  {
   "cell_type": "code",
   "execution_count": 74,
   "metadata": {},
   "outputs": [],
   "source": [
    "scores = cross_validate(\n",
    "    linear_estimator,\n",
    "    features,\n",
    "    labels,\n",
    "    groups = chroms,\n",
    "    cv = shuffled_cv,\n",
    "    scoring = scorers\n",
    ")\n",
    "\n",
    "all_scores.append([\n",
    "    'none',\n",
    "    'none',\n",
    "    'shuffled',\n",
    "    'linear',\n",
    "    scores['test_average_precision'].mean(),\n",
    "    scores['test_roc_auc'].mean(),\n",
    "    scores['test_accuracy'].mean()\n",
    "])"
   ]
  },
  {
   "cell_type": "markdown",
   "metadata": {},
   "source": [
    "Evaluate the linear model using cross-chromosome validation."
   ]
  },
  {
   "cell_type": "code",
   "execution_count": 75,
   "metadata": {},
   "outputs": [],
   "source": [
    "scores = cross_validate(\n",
    "    linear_estimator,\n",
    "    features,\n",
    "    labels,\n",
    "    groups = chroms,\n",
    "    cv = cc_cv,\n",
    "    scoring = scorers\n",
    ")\n",
    "\n",
    "all_scores.append([\n",
    "    'none',\n",
    "    'none',\n",
    "    'cross-chromosome',\n",
    "    'linear',\n",
    "    scores['test_average_precision'].mean(),\n",
    "    scores['test_roc_auc'].mean(),\n",
    "    scores['test_accuracy'].mean()\n",
    "])"
   ]
  },
  {
   "cell_type": "markdown",
   "metadata": {},
   "source": [
    "Evaluate the linear model using feature selection inside the cross-validation loop, using cross-chromosome validation."
   ]
  },
  {
   "cell_type": "code",
   "execution_count": 76,
   "metadata": {},
   "outputs": [],
   "source": [
    "scores = cross_validate(\n",
    "    selection_lm_estimator,\n",
    "    features,\n",
    "    labels,\n",
    "    groups = chroms,\n",
    "    cv = cc_cv,\n",
    "    scoring = scorers\n",
    ")\n",
    "\n",
    "all_scores.append([\n",
    "    'none',\n",
    "    'feature selection',\n",
    "    'cross-chromosome',\n",
    "    'linear',\n",
    "    scores['test_average_precision'].mean(),\n",
    "    scores['test_roc_auc'].mean(),\n",
    "    scores['test_accuracy'].mean()\n",
    "])"
   ]
  },
  {
   "cell_type": "markdown",
   "metadata": {},
   "source": [
    "Pre-select features before performing CV, then evaluate using a linear model with the selected features using cross-chromosome validation."
   ]
  },
  {
   "cell_type": "code",
   "execution_count": 77,
   "metadata": {},
   "outputs": [],
   "source": [
    "selected_features = selection_estimator.fit_transform(features, labels)\n",
    "\n",
    "scores = cross_validate(\n",
    "    linear_estimator,\n",
    "    selected_features,\n",
    "    labels,\n",
    "    groups = chroms,\n",
    "    cv = cc_cv,\n",
    "    scoring = scorers\n",
    ")\n",
    "\n",
    "all_scores.append([\n",
    "    'feature selection',\n",
    "    'none',\n",
    "    'cross-chromosome',\n",
    "    'linear',\n",
    "    scores['test_average_precision'].mean(),\n",
    "    scores['test_roc_auc'].mean(),\n",
    "    scores['test_accuracy'].mean()\n",
    "])"
   ]
  },
  {
   "cell_type": "markdown",
   "metadata": {},
   "source": [
    "\"Balance\" classes by selecting an equal number of positive and negative samples outside of CV.  Requires re-ordering features to match balanced labels, and re-extracting chromosome information.\n",
    "\n",
    "Next, evaluate a linear model using balanced data and cross-chromosome validation."
   ]
  },
  {
   "cell_type": "code",
   "execution_count": 78,
   "metadata": {},
   "outputs": [],
   "source": [
    "minority_class_count = labels.value_counts().min()\n",
    "balanced_labels = (\n",
    "    labels\n",
    "    .groupby(labels, group_keys = False)\n",
    "    .apply(\n",
    "        lambda x: x.sample(\n",
    "            n = minority_class_count,\n",
    "            random_state = 0\n",
    "        )\n",
    "    )\n",
    ")\n",
    "\n",
    "balanced_features = features.reindex(balanced_labels.index)\n",
    "\n",
    "balanced_chroms = (\n",
    "    balanced_features\n",
    "    .index\n",
    "    .to_series()\n",
    "    .str.extract('^([^:]+)')\n",
    ")\n",
    "\n",
    "scores = cross_validate(\n",
    "    linear_estimator,\n",
    "    balanced_features,\n",
    "    balanced_labels,\n",
    "    groups = balanced_chroms,\n",
    "    cv = cc_cv,\n",
    "    scoring = scorers\n",
    ")\n",
    "\n",
    "all_scores.append([\n",
    "    'balance classes',\n",
    "    'none',\n",
    "    'cross-chromosome',\n",
    "    'linear',\n",
    "    scores['test_average_precision'].mean(),\n",
    "    scores['test_roc_auc'].mean(),\n",
    "    scores['test_accuracy'].mean()\n",
    "])"
   ]
  },
  {
   "cell_type": "markdown",
   "metadata": {},
   "source": [
    "Combine two pitfalls: select features using balanced data, both outside of CV.\n",
    "\n",
    "Evaluate a linear model using pre-balanced and pre-feature-selected data using cross-chromosome validation."
   ]
  },
  {
   "cell_type": "code",
   "execution_count": 79,
   "metadata": {},
   "outputs": [],
   "source": [
    "selected_balanced_features = selection_estimator.fit_transform(balanced_features, balanced_labels)\n",
    "\n",
    "scores = cross_validate(\n",
    "    linear_estimator,\n",
    "    selected_balanced_features,\n",
    "    balanced_labels,\n",
    "    groups = balanced_chroms,\n",
    "    cv = cc_cv,\n",
    "    scoring = scorers\n",
    ")\n",
    "\n",
    "all_scores.append([\n",
    "    'balance classes, feature selection',\n",
    "    'none',\n",
    "    'cross-chromosome',\n",
    "    'linear',\n",
    "    scores['test_average_precision'].mean(),\n",
    "    scores['test_roc_auc'].mean(),\n",
    "    scores['test_accuracy'].mean()\n",
    "])"
   ]
  },
  {
   "cell_type": "markdown",
   "metadata": {},
   "source": [
    "Summarize our performance metrics across all evaluation settings."
   ]
  },
  {
   "cell_type": "code",
   "execution_count": 80,
   "metadata": {},
   "outputs": [
    {
     "data": {
      "text/html": [
       "<div>\n",
       "<style scoped>\n",
       "    .dataframe tbody tr th:only-of-type {\n",
       "        vertical-align: middle;\n",
       "    }\n",
       "\n",
       "    .dataframe tbody tr th {\n",
       "        vertical-align: top;\n",
       "    }\n",
       "\n",
       "    .dataframe thead th {\n",
       "        text-align: right;\n",
       "    }\n",
       "</style>\n",
       "<table border=\"1\" class=\"dataframe\">\n",
       "  <thead>\n",
       "    <tr style=\"text-align: right;\">\n",
       "      <th></th>\n",
       "      <th>outside cv steps</th>\n",
       "      <th>inside cv steps</th>\n",
       "      <th>cv type</th>\n",
       "      <th>model type</th>\n",
       "      <th>mean auPR</th>\n",
       "      <th>mean auROC</th>\n",
       "      <th>mean accuracy</th>\n",
       "    </tr>\n",
       "  </thead>\n",
       "  <tbody>\n",
       "    <tr>\n",
       "      <th>0</th>\n",
       "      <td>none</td>\n",
       "      <td>none</td>\n",
       "      <td>shuffled</td>\n",
       "      <td>baseline</td>\n",
       "      <td>0.038051</td>\n",
       "      <td>0.500000</td>\n",
       "      <td>0.961949</td>\n",
       "    </tr>\n",
       "    <tr>\n",
       "      <th>1</th>\n",
       "      <td>none</td>\n",
       "      <td>none</td>\n",
       "      <td>cross-chromosome</td>\n",
       "      <td>baseline</td>\n",
       "      <td>0.037744</td>\n",
       "      <td>0.500000</td>\n",
       "      <td>0.962256</td>\n",
       "    </tr>\n",
       "    <tr>\n",
       "      <th>2</th>\n",
       "      <td>none</td>\n",
       "      <td>none</td>\n",
       "      <td>shuffled</td>\n",
       "      <td>linear</td>\n",
       "      <td>0.348435</td>\n",
       "      <td>0.756251</td>\n",
       "      <td>0.961858</td>\n",
       "    </tr>\n",
       "    <tr>\n",
       "      <th>3</th>\n",
       "      <td>none</td>\n",
       "      <td>none</td>\n",
       "      <td>cross-chromosome</td>\n",
       "      <td>linear</td>\n",
       "      <td>0.287322</td>\n",
       "      <td>0.739716</td>\n",
       "      <td>0.961599</td>\n",
       "    </tr>\n",
       "    <tr>\n",
       "      <th>4</th>\n",
       "      <td>none</td>\n",
       "      <td>feature selection</td>\n",
       "      <td>cross-chromosome</td>\n",
       "      <td>linear</td>\n",
       "      <td>0.431820</td>\n",
       "      <td>0.835089</td>\n",
       "      <td>0.968065</td>\n",
       "    </tr>\n",
       "    <tr>\n",
       "      <th>5</th>\n",
       "      <td>feature selection</td>\n",
       "      <td>none</td>\n",
       "      <td>cross-chromosome</td>\n",
       "      <td>linear</td>\n",
       "      <td>0.454918</td>\n",
       "      <td>0.841561</td>\n",
       "      <td>0.968059</td>\n",
       "    </tr>\n",
       "    <tr>\n",
       "      <th>6</th>\n",
       "      <td>balance classes</td>\n",
       "      <td>none</td>\n",
       "      <td>cross-chromosome</td>\n",
       "      <td>linear</td>\n",
       "      <td>0.684962</td>\n",
       "      <td>0.628195</td>\n",
       "      <td>0.680029</td>\n",
       "    </tr>\n",
       "    <tr>\n",
       "      <th>7</th>\n",
       "      <td>balance classes, feature selection</td>\n",
       "      <td>none</td>\n",
       "      <td>cross-chromosome</td>\n",
       "      <td>linear</td>\n",
       "      <td>0.817434</td>\n",
       "      <td>0.822572</td>\n",
       "      <td>0.789038</td>\n",
       "    </tr>\n",
       "  </tbody>\n",
       "</table>\n",
       "</div>"
      ],
      "text/plain": [
       "                     outside cv steps    inside cv steps           cv type  \\\n",
       "0                                none               none          shuffled   \n",
       "1                                none               none  cross-chromosome   \n",
       "2                                none               none          shuffled   \n",
       "3                                none               none  cross-chromosome   \n",
       "4                                none  feature selection  cross-chromosome   \n",
       "5                   feature selection               none  cross-chromosome   \n",
       "6                     balance classes               none  cross-chromosome   \n",
       "7  balance classes, feature selection               none  cross-chromosome   \n",
       "\n",
       "  model type  mean auPR  mean auROC  mean accuracy  \n",
       "0   baseline   0.038051    0.500000       0.961949  \n",
       "1   baseline   0.037744    0.500000       0.962256  \n",
       "2     linear   0.348435    0.756251       0.961858  \n",
       "3     linear   0.287322    0.739716       0.961599  \n",
       "4     linear   0.431820    0.835089       0.968065  \n",
       "5     linear   0.454918    0.841561       0.968059  \n",
       "6     linear   0.684962    0.628195       0.680029  \n",
       "7     linear   0.817434    0.822572       0.789038  "
      ]
     },
     "execution_count": 80,
     "metadata": {},
     "output_type": "execute_result"
    }
   ],
   "source": [
    "pd.DataFrame(\n",
    "    all_scores,\n",
    "    columns = [\n",
    "        'outside cv steps',\n",
    "        'inside cv steps',\n",
    "        'cv type',\n",
    "        'model type',\n",
    "        'mean auPR',\n",
    "        'mean auROC',\n",
    "        'mean accuracy'\n",
    "    ]\n",
    ")"
   ]
  },
  {
   "cell_type": "markdown",
   "metadata": {},
   "source": [
    "This summary showcases many pitfalls of machine learning, both in general and with respect to applications in genomics.\n",
    "\n",
    "First, note that accuracy is typically very high when area under the precision-recall (auPR) or the receiver operating characteristic (auROC) curves are low.  This is characteristic of problems with major class imbalance, as accuracy simply measures the percent of predictions that are correct without respect to their proportion in the dataset.  Thus, a \"model\" that always predicts 0 when 96% of the labels are 0 will have an accuracy of 96%.  However, it will never correctly predict the minority class, and this is often the class of interest in genomics.\n",
    "\n",
    "Also note that auROC can be high when auPR is low.  The ROC curve is formed by values of the true positive rate (tpr) and false positive rate (fpr) at different classifier thresholds:\n",
    "\n",
    "$$tpr = \\frac{tp}{tp + fn}$$\n",
    "$$fpr = \\frac{fp}{fp + tn}$$\n",
    "\n",
    "Where tp = # true positives, fp = # false positives, tn = # true negatives, and fn = # false negatives.  Precision and recall are defined as:\n",
    "\n",
    "$$\\mathrm{precision} = \\frac{tp}{tp + fp}$$\n",
    "$$\\mathrm{recall} = tpr = \\frac{tp}{tp + fn}$$\n",
    "\n",
    "For highly imbalanced problems in genomics, the majority negative class is often much easier to predict than the minority positive class.  In such cases, the number of true negatives will be high and drive the false positive rate very low, impacting auROC.  True negatives are not measured by precision or recall, so auPR is not inflated by easy-to-predict majority classes.  This makes auPR a better choice than auROC for some (but not all) problems in genomics.\n",
    "\n",
    "Second, feature selection performed outside CV leads to higher performance compared to selection performed inside CV.  The improvement here is not drastic, but often is; this estimator selects a percentage of features based on their individual correlations with the class label, rather than considering features jointly.  Selecting features using a multivariate linear model with an L1 penalty outside CV leads to an even larger gap.  Another procedure performed outside CV balances the number of positive and negative classes by downsampling the majority class.  This drastically inflates performance, especially when combined with feature selection; the resulting auPR of 0.81 is nearly twice that of the same model evaluated correctly.\n",
    "\n",
    "Third, note that shuffled k-fold CV reports higher auPR than cross-chromosome validation.  Regions on the same chromosome may not be independent and thus have highly correlated features (violating independence in the IID assumption), making it easier for a model that trains one sample to accurately predict the label of another correlated sample.  Shuffling samples and creating training/test splits that ignore these potential correlations can inflate performance.  Using cross-cromosome validation, where all samples on the same chromosome are placed in either the training or test set, prevents this type of inflation.\n",
    "\n",
    "Samples might also violate the identically-distributed portion of the IID assumption, having features that are distributed differently across chromosomes due to the underlying biology.  In this example, samples are not highly correlated; we will show the performance difference is due such such differences in feature distribution.  We can test this by building an adversarial classifier that tries to predict which chromosome a sample originates from, rather than trying to predict the enhancer label."
   ]
  },
  {
   "cell_type": "code",
   "execution_count": 81,
   "metadata": {},
   "outputs": [
    {
     "name": "stdout",
     "output_type": "stream",
     "text": [
      "adversarial performance: 0.58\n"
     ]
    }
   ],
   "source": [
    "chromosome_labels = (\n",
    "    features\n",
    "    .index\n",
    "    .to_series()\n",
    "    .str.startswith('chr1:')\n",
    "    .astype(int)\n",
    ")\n",
    "\n",
    "scores = cross_val_score(\n",
    "    linear_estimator,\n",
    "    features,\n",
    "    chromosome_labels,\n",
    "    cv = 5,\n",
    "    scoring = 'average_precision'\n",
    ")\n",
    "print(f'adversarial performance: {scores.mean():.2f}')"
   ]
  },
  {
   "cell_type": "markdown",
   "metadata": {},
   "source": [
    "This is a modest improvement over random guessing, suggesting that the performance drop observed using cross-chromosome evaluation is at least partly due to differences in the distribution of features.\n",
    "\n",
    "Since our features are binary, feature density plots won't be very interesting.  Instead, let's take a statistical approach and perform a difference-of-proportions test for the values of the most predictive features, split by chromosome."
   ]
  },
  {
   "cell_type": "code",
   "execution_count": 82,
   "metadata": {},
   "outputs": [
    {
     "name": "stdout",
     "output_type": "stream",
     "text": [
      "-6.2 6.0e-10 ChIP-seq, ARNT, K562, ENCFF447FIO (ENCODE)\n",
      "-5.3 1.4e-07 ChIP-seq, POLR2A, K562, ENCFF285MBX (ENCODE)\n",
      "-5.0 7.1e-07 ChIP-seq, POLR2A, K562, ENCFF099NYA (ENCODE)\n",
      "-4.4 1.0e-05 ChIP-seq, TAF1, K562, ENCFF453TIB (ENCODE)\n",
      "-5.1 4.2e-07 ChIP-seq, POLR2A, K562, ENCFF730DLS (ENCODE)\n"
     ]
    }
   ],
   "source": [
    "linear_estimator.fit(features, labels)\n",
    "\n",
    "coefs = pd.Series(\n",
    "    linear_estimator.steps[-1][1].coef_[0],\n",
    "    index = features.columns[linear_estimator.steps[0][1].get_support()]\n",
    ")\n",
    "coefs = (\n",
    "    coefs\n",
    "    .abs()\n",
    "    .sort_values(ascending = False)\n",
    "    .index\n",
    "    .tolist()\n",
    ")\n",
    "\n",
    "features['chrom'] = chromosome_labels\n",
    "\n",
    "for i in range(5):\n",
    "    counts = (\n",
    "        features\n",
    "        .groupby('chrom')\n",
    "        [coefs[i]]\n",
    "        .agg([sum, len])\n",
    "    )\n",
    "\n",
    "    zstat, pvalue = proportions_ztest(counts['sum'], counts['len'])\n",
    "    print(f'{zstat:.1f} {pvalue:.1e} {coefs[i]}')"
   ]
  },
  {
   "cell_type": "markdown",
   "metadata": {},
   "source": [
    "The p-value for the difference-of-proportions test is significant for the top 5 features.  Repeating this test for the least predictive features shows no significant p-values.  In summary, features the model finds most predictive are also distributed somewhat differently across chromosomes, causing a moderate drop in performance when the model is forced to train on samples from only one chromosome and predict on another."
   ]
  }
 ],
 "metadata": {
  "kernelspec": {
   "display_name": "Python 3",
   "language": "python",
   "name": "python3"
  },
  "language_info": {
   "codemirror_mode": {
    "name": "ipython",
    "version": 3
   },
   "file_extension": ".py",
   "mimetype": "text/x-python",
   "name": "python",
   "nbconvert_exporter": "python",
   "pygments_lexer": "ipython3",
   "version": "3.8.3"
  }
 },
 "nbformat": 4,
 "nbformat_minor": 4
}
