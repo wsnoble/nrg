{
 "cells": [
  {
   "cell_type": "code",
   "execution_count": 1,
   "metadata": {},
   "outputs": [],
   "source": [
    "\"\"\"\n",
    "Enhancer prediction pitfalls demo\n",
    "Sean Whalen, Gladstone Institutes, Pollard Lab\n",
    "sean.whalen at gladstone.ucsf.edu\n",
    "\"\"\"\n",
    "\n",
    "import pandas as pd\n",
    "\n",
    "from sklearn.dummy import *\n",
    "from sklearn.feature_selection import *\n",
    "from sklearn.linear_model import *\n",
    "from sklearn.model_selection import *\n",
    "from sklearn.pipeline import make_pipeline\n",
    "from sklearn.preprocessing import *\n",
    "from statsmodels.stats.proportion import proportions_ztest"
   ]
  },
  {
   "cell_type": "code",
   "execution_count": 2,
   "metadata": {},
   "outputs": [
    {
     "name": "stdout",
     "output_type": "stream",
     "text": [
      "<class 'pandas.core.frame.DataFrame'>\n",
      "Index: 10959 entries, chr1:905311-906011 to chr2:242086009-242086316\n",
      "Columns: 435 entries, ChIP-seq, ADNP, K562, ENCFF817ARM (ENCODE) to ChIP-seq, ZZZ3, K562, ENCFF945HJR (ENCODE)\n",
      "dtypes: uint8(435)\n",
      "memory usage: 4.6+ MB\n"
     ]
    }
   ],
   "source": [
    "features = pd.read_feather('cage-k562-features-hg38.feather')\n",
    "features = features[features['coord'].str.contains(r'chr[12]:')]\n",
    "features.set_index('coord', inplace = True)\n",
    "features.info()"
   ]
  },
  {
   "cell_type": "code",
   "execution_count": 3,
   "metadata": {},
   "outputs": [
    {
     "name": "stdout",
     "output_type": "stream",
     "text": [
      "0    10542\n",
      "1      417\n",
      "Name: k562, dtype: int64\n"
     ]
    }
   ],
   "source": [
    "labels = (\n",
    "    pd.read_csv('cage-k562-labels-hg38.csv', index_col = 0)\n",
    "    .reindex(features.index)\n",
    "    .squeeze()\n",
    ")\n",
    "print(labels.value_counts())"
   ]
  },
  {
   "cell_type": "code",
   "execution_count": 4,
   "metadata": {},
   "outputs": [],
   "source": [
    "# chromosomes for group k-fold cv\n",
    "chroms = (\n",
    "    features\n",
    "    .index\n",
    "    .to_series()\n",
    "    .str.extract('^([^:]+)')\n",
    ")"
   ]
  },
  {
   "cell_type": "code",
   "execution_count": 5,
   "metadata": {},
   "outputs": [],
   "source": [
    "# k-fold cv, preserve distribution of train/test classes, shuffle samples\n",
    "shuffled_cv = StratifiedKFold(\n",
    "    n_splits = 2,\n",
    "    shuffle = True,\n",
    "    random_state = 0\n",
    ")"
   ]
  },
  {
   "cell_type": "code",
   "execution_count": 6,
   "metadata": {},
   "outputs": [],
   "source": [
    "# cross-chromosome cv, prevent sampels on same chromosome from being in both train and test folds\n",
    "cc_cv = GroupKFold(n_splits = 2)"
   ]
  },
  {
   "cell_type": "code",
   "execution_count": 7,
   "metadata": {},
   "outputs": [],
   "source": [
    "# pipeline: remove low-variance features and predict majority class\n",
    "baseline_estimator = make_pipeline(\n",
    "    VarianceThreshold(),\n",
    "    DummyClassifier(strategy = 'prior')\n",
    ")"
   ]
  },
  {
   "cell_type": "code",
   "execution_count": 8,
   "metadata": {},
   "outputs": [],
   "source": [
    "# pipeline: remove low-variance features, scale them, and fit a linear (ridge) classifier\n",
    "linear_estimator = make_pipeline(\n",
    "    VarianceThreshold(),\n",
    "    StandardScaler(),\n",
    "    RidgeClassifier()\n",
    ")"
   ]
  },
  {
   "cell_type": "code",
   "execution_count": 9,
   "metadata": {},
   "outputs": [],
   "source": [
    "# same as above, but also select features with highest chi2 statistic with label\n",
    "# performance difference of feature selection inside/outside cv is more dramatic\n",
    "# with a penalized multivariate model: using SelectPercentile() here for simplicity\n",
    "selection_percentile = 5\n",
    "selection_lm_estimator = make_pipeline(\n",
    "    VarianceThreshold(),\n",
    "    SelectPercentile(percentile = selection_percentile),\n",
    "    StandardScaler(),\n",
    "    RidgeClassifier()\n",
    ")"
   ]
  },
  {
   "cell_type": "code",
   "execution_count": 10,
   "metadata": {},
   "outputs": [],
   "source": [
    "# pipeline for selection outside of cv\n",
    "selection_estimator = make_pipeline(\n",
    "    VarianceThreshold(),\n",
    "    SelectPercentile(percentile = selection_percentile)\n",
    ")"
   ]
  },
  {
   "cell_type": "code",
   "execution_count": 11,
   "metadata": {},
   "outputs": [],
   "source": [
    "# stores metadata and scores across all cv runs\n",
    "all_scores = []"
   ]
  },
  {
   "cell_type": "code",
   "execution_count": 12,
   "metadata": {},
   "outputs": [],
   "source": [
    "# shuffled cv baseline\n",
    "scores = cross_val_score(\n",
    "    baseline_estimator,\n",
    "    features,\n",
    "    labels,\n",
    "    groups = chroms,\n",
    "    cv = shuffled_cv,\n",
    "    scoring = 'average_precision'\n",
    ")\n",
    "all_scores.append(['none', 'none', 'shuffled', 'baseline', scores.mean()])"
   ]
  },
  {
   "cell_type": "code",
   "execution_count": 13,
   "metadata": {},
   "outputs": [],
   "source": [
    "# cross-chromosome cv baseline model\n",
    "scores = cross_val_score(\n",
    "    baseline_estimator,\n",
    "    features,\n",
    "    labels,\n",
    "    groups = chroms,\n",
    "    cv = cc_cv,\n",
    "    scoring = 'average_precision'\n",
    ")\n",
    "all_scores.append(['none', 'none', 'cross-chromosome', 'baseline', scores.mean()])"
   ]
  },
  {
   "cell_type": "code",
   "execution_count": 14,
   "metadata": {},
   "outputs": [],
   "source": [
    "# shuffled cv linear model\n",
    "scores = cross_val_score(\n",
    "    linear_estimator,\n",
    "    features,\n",
    "    labels,\n",
    "    groups = chroms,\n",
    "    cv = shuffled_cv,\n",
    "    scoring = 'average_precision'\n",
    ")\n",
    "all_scores.append(['none', 'none', 'shuffled', 'linear', scores.mean()])"
   ]
  },
  {
   "cell_type": "code",
   "execution_count": 15,
   "metadata": {},
   "outputs": [],
   "source": [
    "# cross-chromosome cv linear model\n",
    "scores = cross_val_score(\n",
    "    linear_estimator,\n",
    "    features,\n",
    "    labels,\n",
    "    groups = chroms,\n",
    "    cv = cc_cv,\n",
    "    scoring = 'average_precision'\n",
    ")\n",
    "all_scores.append(['none', 'none', 'cross-chromosome', 'linear', scores.mean()])"
   ]
  },
  {
   "cell_type": "code",
   "execution_count": 16,
   "metadata": {},
   "outputs": [],
   "source": [
    "# feature selection inside cv -> cross-chromosome cv linear model\n",
    "scores = cross_val_score(\n",
    "    selection_lm_estimator,\n",
    "    features,\n",
    "    labels,\n",
    "    groups = chroms,\n",
    "    cv = cc_cv,\n",
    "    scoring = 'average_precision'\n",
    ")\n",
    "all_scores.append(['none', 'feature selection', 'cross-chromosome', 'linear', scores.mean()])"
   ]
  },
  {
   "cell_type": "code",
   "execution_count": 17,
   "metadata": {},
   "outputs": [],
   "source": [
    "# feature selection outside cv -> cross-chromosome cv linear model\n",
    "selected_features = selection_estimator.fit_transform(features, labels)\n",
    "\n",
    "scores = cross_val_score(\n",
    "    linear_estimator,\n",
    "    selected_features,\n",
    "    labels,\n",
    "    groups = chroms,\n",
    "    cv = cc_cv,\n",
    "    scoring = 'average_precision'\n",
    ")\n",
    "all_scores.append(['feature selection', 'none', 'cross-chromosome', 'linear', scores.mean()])"
   ]
  },
  {
   "cell_type": "code",
   "execution_count": 18,
   "metadata": {},
   "outputs": [],
   "source": [
    "# balance classes outside cv -> cross-chromosome linear model\n",
    "minority_class_count = labels.value_counts().min()\n",
    "balanced_labels = (\n",
    "    labels\n",
    "    .groupby(labels, group_keys = False)\n",
    "    .apply(\n",
    "        lambda x: x.sample(\n",
    "            n = minority_class_count,\n",
    "            random_state = 0\n",
    "        )\n",
    "    )\n",
    ")\n",
    "balanced_features = features.reindex(balanced_labels.index)\n",
    "\n",
    "balanced_chroms = (\n",
    "    balanced_features\n",
    "    .index\n",
    "    .to_series()\n",
    "    .str.extract('^([^:]+)')\n",
    ")\n",
    "\n",
    "scores = cross_val_score(\n",
    "    linear_estimator,\n",
    "    balanced_features,\n",
    "    balanced_labels,\n",
    "    groups = balanced_chroms,\n",
    "    cv = cc_cv,\n",
    "    scoring = 'average_precision'\n",
    ")\n",
    "all_scores.append(['balance classes', 'none', 'cross-chromosome', 'linear', scores.mean()])"
   ]
  },
  {
   "cell_type": "code",
   "execution_count": 19,
   "metadata": {},
   "outputs": [],
   "source": [
    "# balance classes and select features outside cv -> cross-chromosome linear model\n",
    "selected_balanced_features = selection_estimator.fit_transform(balanced_features, balanced_labels)\n",
    "\n",
    "scores = cross_val_score(\n",
    "    linear_estimator,\n",
    "    selected_balanced_features,\n",
    "    balanced_labels,\n",
    "    groups = balanced_chroms,\n",
    "    cv = cc_cv,\n",
    "    scoring = 'average_precision'\n",
    ")\n",
    "all_scores.append(['balance classes, feature selection', 'none', 'cross-chromosome', 'linear', scores.mean()])"
   ]
  },
  {
   "cell_type": "code",
   "execution_count": 20,
   "metadata": {},
   "outputs": [
    {
     "name": "stdout",
     "output_type": "stream",
     "text": [
      "                     outside cv steps    inside cv steps           cv type  \\\n",
      "0                                none               none          shuffled   \n",
      "1                                none               none  cross-chromosome   \n",
      "2                                none               none          shuffled   \n",
      "3                                none               none  cross-chromosome   \n",
      "4                                none  feature selection  cross-chromosome   \n",
      "5                   feature selection               none  cross-chromosome   \n",
      "6                     balance classes               none  cross-chromosome   \n",
      "7  balance classes, feature selection               none  cross-chromosome   \n",
      "\n",
      "  model type  mean auPR  \n",
      "0   baseline   0.038051  \n",
      "1   baseline   0.037744  \n",
      "2     linear   0.348435  \n",
      "3     linear   0.287322  \n",
      "4     linear   0.431820  \n",
      "5     linear   0.454918  \n",
      "6     linear   0.684962  \n",
      "7     linear   0.817434  \n"
     ]
    }
   ],
   "source": [
    "stats = pd.DataFrame(\n",
    "    all_scores,\n",
    "    columns = [\n",
    "        'outside cv steps',\n",
    "        'inside cv steps',\n",
    "        'cv type',\n",
    "        'model type',\n",
    "        'mean auPR'\n",
    "    ]\n",
    ")\n",
    "print(stats)"
   ]
  },
  {
   "cell_type": "code",
   "execution_count": 21,
   "metadata": {},
   "outputs": [
    {
     "name": "stdout",
     "output_type": "stream",
     "text": [
      "adversarial performance: 0.58\n"
     ]
    }
   ],
   "source": [
    "# adversarial model by chromosome\n",
    "chromosome_labels = (\n",
    "    features\n",
    "    .index\n",
    "    .to_series()\n",
    "    .str.startswith('chr1:')\n",
    "    .astype(int)\n",
    ")\n",
    "\n",
    "scores = cross_val_score(\n",
    "    linear_estimator,\n",
    "    features,\n",
    "    chromosome_labels,\n",
    "    cv = 5,\n",
    "    scoring = 'average_precision'\n",
    ")\n",
    "print(f'adversarial performance: {scores.mean():.2f}')"
   ]
  },
  {
   "cell_type": "code",
   "execution_count": 22,
   "metadata": {},
   "outputs": [
    {
     "name": "stdout",
     "output_type": "stream",
     "text": [
      "-6.2 6.0e-10 ChIP-seq, ARNT, K562, ENCFF447FIO (ENCODE)\n",
      "-5.3 1.4e-07 ChIP-seq, POLR2A, K562, ENCFF285MBX (ENCODE)\n",
      "-5.0 7.1e-07 ChIP-seq, POLR2A, K562, ENCFF099NYA (ENCODE)\n",
      "-4.4 1.0e-05 ChIP-seq, TAF1, K562, ENCFF453TIB (ENCODE)\n",
      "-5.1 4.2e-07 ChIP-seq, POLR2A, K562, ENCFF730DLS (ENCODE)\n"
     ]
    }
   ],
   "source": [
    "# statistical test for difference in peak counts between chromosomes\n",
    "linear_estimator.fit(features, labels)\n",
    "\n",
    "coefs = pd.Series(\n",
    "    linear_estimator.steps[-1][1].coef_[0],\n",
    "    index = features.columns[linear_estimator.steps[0][1].get_support()]\n",
    ")\n",
    "coefs = (\n",
    "    coefs\n",
    "    .abs()\n",
    "    .sort_values(ascending = False)\n",
    "    .index\n",
    "    .tolist()\n",
    ")\n",
    "\n",
    "features['chrom'] = chromosome_labels\n",
    "\n",
    "for i in range(5):\n",
    "    counts = (\n",
    "        features\n",
    "        .groupby('chrom')\n",
    "        [coefs[i]]\n",
    "        .agg([sum, len])\n",
    "    )\n",
    "\n",
    "    zstat, pvalue = proportions_ztest(counts['sum'], counts['len'])\n",
    "    print(f'{zstat:.1f} {pvalue:.1e} {coefs[i]}')"
   ]
  },
  {
   "cell_type": "code",
   "execution_count": null,
   "metadata": {},
   "outputs": [],
   "source": []
  }
 ],
 "metadata": {
  "kernelspec": {
   "display_name": "Python 3",
   "language": "python",
   "name": "python3"
  },
  "language_info": {
   "codemirror_mode": {
    "name": "ipython",
    "version": 3
   },
   "file_extension": ".py",
   "mimetype": "text/x-python",
   "name": "python",
   "nbconvert_exporter": "python",
   "pygments_lexer": "ipython3",
   "version": "3.8.3"
  }
 },
 "nbformat": 4,
 "nbformat_minor": 4
}
